{
 "cells": [
  {
   "cell_type": "code",
   "execution_count": 1,
   "metadata": {},
   "outputs": [],
   "source": [
    "from model.data_utils import Dataset\n",
    "from model.models import HANNModel\n",
    "from model.config import Config\n",
    "import argparse\n",
    "import os\n",
    "import sys\n"
   ]
  },
  {
   "cell_type": "markdown",
   "metadata": {},
   "source": [
    "# Provide the dataset name and the path to the trained parameters"
   ]
  },
  {
   "cell_type": "code",
   "execution_count": 2,
   "metadata": {},
   "outputs": [],
   "source": [
    "dataset = \"nicta\"\n",
    "#dataset = \"pubmed-20k\"\n",
    "#dataset = \"pubmed-200k\"\n",
    "\n",
    "model_parameters = \"results/nicta_1_epoch/model.weights\"\n"
   ]
  },
  {
   "cell_type": "markdown",
   "metadata": {},
   "source": [
    "# Load the config and the model with the given model parameters"
   ]
  },
  {
   "cell_type": "code",
   "execution_count": 3,
   "metadata": {},
   "outputs": [],
   "source": [
    "parser = argparse.ArgumentParser()\n",
    "config = Config(parser, log_config=False, dataset = dataset, args=dict())"
   ]
  },
  {
   "cell_type": "code",
   "execution_count": 4,
   "metadata": {},
   "outputs": [
    {
     "name": "stdout",
     "output_type": "stream",
     "text": [
      "INFO:tensorflow:Scale of 0 disables regularizer.\n"
     ]
    },
    {
     "name": "stderr",
     "output_type": "stream",
     "text": [
      "Scale of 0 disables regularizer.\n",
      "/home/bracka/.local/lib/python3.6/site-packages/tensorflow/python/ops/gradients_impl.py:112: UserWarning: Converting sparse IndexedSlices to a dense Tensor of unknown shape. This may consume a large amount of memory.\n",
      "  \"Converting sparse IndexedSlices to a dense Tensor of unknown shape. \"\n",
      "Initializing tf session\n",
      "Reloading the latest trained model...\n"
     ]
    },
    {
     "name": "stdout",
     "output_type": "stream",
     "text": [
      "INFO:tensorflow:Restoring parameters from results/nicta_1_epoch/model.weights\n"
     ]
    },
    {
     "name": "stderr",
     "output_type": "stream",
     "text": [
      "Restoring parameters from results/nicta_1_epoch/model.weights\n"
     ]
    }
   ],
   "source": [
    "model = HANNModel(config)\n",
    "model.build()\n",
    "model.restore_session(model_parameters)"
   ]
  },
  {
   "cell_type": "code",
   "execution_count": 5,
   "metadata": {},
   "outputs": [],
   "source": [
    "def split_to_sentences(text):\n",
    "    \"\"\" Splits the text into sentences \"\"\"    \n",
    "    sentences = []\n",
    "    for l in text.split(\".\"):\n",
    "        l = l.strip() + \".\"\n",
    "        if len(l) > 1:\n",
    "            sentences += [l]\n",
    "    return sentences \n"
   ]
  },
  {
   "cell_type": "code",
   "execution_count": 6,
   "metadata": {},
   "outputs": [],
   "source": [
    "def split_sentences_to_words(sentences):\n",
    "    \"\"\"Splits each sentence into words and maps each word to an index for word embeddings \"\"\"\n",
    "    \n",
    "    sentences_words = []\n",
    "    # split abstract to sentences\n",
    "    for line in sentences:\n",
    "        # split line into words and map  words to ids\n",
    "        sentence = [config.processing_word(word) for word in line.split()]\n",
    "        sentences_words += [sentence]\n",
    "    return sentences_words"
   ]
  },
  {
   "cell_type": "code",
   "execution_count": 7,
   "metadata": {},
   "outputs": [],
   "source": [
    "def classify(sentences):\n",
    "    \"\"\"Classifies the sentences and returns a predicted label for each sentence\"\"\"\n",
    "    \n",
    "    sentences_words = split_sentences_to_words(sentences)\n",
    "    labels_pred, _ = model.predict_batch([sentences_words])\n",
    "\n",
    "    # map: label id to label string\n",
    "    tag_id_to_label = dict((v,k) for k,v in config.vocab_tags.items())\n",
    "    \n",
    "    # convert predicted labels to string\n",
    "    labels_pred_str = []\n",
    "    for sublist in labels_pred:\n",
    "        for item in sublist:\n",
    "            labels_pred_str.append(tag_id_to_label[item])\n",
    "    \n",
    "    return labels_pred_str"
   ]
  },
  {
   "cell_type": "code",
   "execution_count": 8,
   "metadata": {},
   "outputs": [],
   "source": [
    "def classify_and_print_result(text):\n",
    "    \"\"\"Classifies each sentence in the text and prints the predicted label for each sentence\"\"\"\n",
    "    \n",
    "    sentences = split_to_sentences(text)\n",
    "    predicted_labels = classify(sentences)\n",
    "    for (label, sentence) in zip(predicted_labels, sentences):\n",
    "        print(label.upper() + \": \" + sentence) \n",
    "        "
   ]
  },
  {
   "cell_type": "markdown",
   "metadata": {},
   "source": [
    "# Possible sentence labels of the model"
   ]
  },
  {
   "cell_type": "code",
   "execution_count": 9,
   "metadata": {},
   "outputs": [
    {
     "name": "stdout",
     "output_type": "stream",
     "text": [
      "OUTCOME\n",
      "BACKGROUND\n",
      "INTERVENTION\n",
      "STUDY\n",
      "OTHER\n",
      "POPULATION\n"
     ]
    }
   ],
   "source": [
    "for l in config.vocab_tags.keys():\n",
    "    print(l.upper())\n"
   ]
  },
  {
   "cell_type": "markdown",
   "metadata": {},
   "source": [
    "# Now play around: classify sentences in abstracts"
   ]
  },
  {
   "cell_type": "code",
   "execution_count": 10,
   "metadata": {},
   "outputs": [
    {
     "name": "stdout",
     "output_type": "stream",
     "text": [
      "BACKGROUND: Although adolescents in Reunion have a pregnancy rate of 77/1000 , twice that of France , there are no published studies on the themes of adolescent pregnancy and parenthood.\n",
      "OTHER: 105 women under 18 including 20 aged 14 who gave birth in 1 maternity center were analyzed for sociofamilial characteristics and perinatal complications.\n",
      "OUTCOME: The educational level of the adolescent mothers was low and 47 % had stopped school before the pregnancy.\n",
      "OUTCOME: 1/3 expected to find employment or return to work after delivery.\n",
      "OUTCOME: 19 % were already in consensual unions at the time of pregnancy and 34 % had entered such unions after delivery.\n",
      "OUTCOME: It was the 2nd pregnancy for 11.\n",
      "OUTCOME: 5 %.\n",
      "OUTCOME: Only 8.\n",
      "OUTCOME: 5 % used contraception.\n",
      "OUTCOME: The age difference with the partner was over 5 years for more than half.\n",
      "OUTCOME: 68 % had known the father for more than 1 year.\n",
      "OUTCOME: At the time of pregnancy , 35 % lived in families with 2 parents and 36 % in households headed by their mothers.\n",
      "OUTCOME: Heads of 50 % of all their households and 80 % of those headed by the mothers were unemployed.\n",
      "OUTCOME: 44 % had more than 6 siblings.\n",
      "OUTCOME: 20 % had 1 or more sisters who were adolescent mothers.\n",
      "OUTCOME: Comparison with a group of 62 adolescents seeking abortions at the same center indicated several factors that appeared to encourage continuation of the pregnancy ; including being below age level in school , absence of plans for education or employment , lim\n",
      "Risk factors at the level of the family included absence of the father , maternal tolerance , poverty , and sisters who were single mothers.\n",
      "OUTCOME: 27 % states retrospectively that they would have preferred to terminate the pregnancy , but all stated they were satisfied after the delivery.\n",
      "OUTCOME: 41 % had problems in pregnancy or delivery.\n",
      "OUTCOME: 10.\n",
      "OUTCOME: 5 % had toxemia and 23 % had low birth weight babies.\n",
      "OUTCOME: 5.\n",
      "OUTCOME: 7 % had caesareans , mainly for eclampsia and acute fetal distress.\n",
      "OUTCOME: There was 1 stillbirth and 2 cases of cogenital malformations.\n",
      "OUTCOME: 14 newborns were transferred were transferred to the neonatology unit for various problems , including 6 weighing under 2000 g.\n",
      "OUTCOME: Compared to the general population , the rate of fetal growth retardation was 3 times higher and that of neonatal pathology requiring transfer to the neonatology unit was 2 times higher among adolescent mothers.\n",
      "OUTCOME: Prenatal care was inadequate in many cases.\n",
      "OUTCOME: 35 % of 14-year-old mothers had 3 or fewer prenatal visits.\n",
      "OUTCOME: adolescent pregnancy -- complicationsadolescentsadolescents femaleafricaafrica south of the saharaage factorscontraceptioncontraceptive usagedelivery of health caredemographic factorsdeveloping count.\n"
     ]
    }
   ],
   "source": [
    "abstract = \"\"\"\n",
    "Although adolescents in Reunion have a pregnancy rate of 77/1000 , twice that of France , there are no published studies on the themes of adolescent pregnancy and parenthood .\n",
    "105 women under 18 including 20 aged 14 who gave birth in 1 maternity center were analyzed for sociofamilial characteristics and perinatal complications .\n",
    "The educational level of the adolescent mothers was low and 47 % had stopped school before the pregnancy .\n",
    "1/3 expected to find employment or return to work after delivery .\n",
    "19 % were already in consensual unions at the time of pregnancy and 34 % had entered such unions after delivery .\n",
    "It was the 2nd pregnancy for 11.5 % .\n",
    "Only 8.5 % used contraception .\n",
    "The age difference with the partner was over 5 years for more than half .\n",
    "68 % had known the father for more than 1 year .\n",
    "At the time of pregnancy , 35 % lived in families with 2 parents and 36 % in households headed by their mothers .\n",
    "Heads of 50 % of all their households and 80 % of those headed by the mothers were unemployed .\n",
    "44 % had more than 6 siblings .\n",
    "20 % had 1 or more sisters who were adolescent mothers .\n",
    "Comparison with a group of 62 adolescents seeking abortions at the same center indicated several factors that appeared to encourage continuation of the pregnancy ; including being below age level in school , absence of plans for education or employment , lim\n",
    "Risk factors at the level of the family included absence of the father , maternal tolerance , poverty , and sisters who were single mothers .\n",
    "27 % states retrospectively that they would have preferred to terminate the pregnancy , but all stated they were satisfied after the delivery .\n",
    "41 % had problems in pregnancy or delivery .\n",
    "10.5 % had toxemia and 23 % had low birth weight babies .\n",
    "5.7 % had caesareans , mainly for eclampsia and acute fetal distress .\n",
    "There was 1 stillbirth and 2 cases of cogenital malformations .\n",
    "14 newborns were transferred were transferred to the neonatology unit for various problems , including 6 weighing under 2000 g.\n",
    "Compared to the general population , the rate of fetal growth retardation was 3 times higher and that of neonatal pathology requiring transfer to the neonatology unit was 2 times higher among adolescent mothers .\n",
    "Prenatal care was inadequate in many cases .\n",
    "35 % of 14-year-old mothers had 3 or fewer prenatal visits.adolescent pregnancy -- complicationsadolescentsadolescents femaleafricaafrica south of the saharaage factorscontraceptioncontraceptive usagedelivery of health caredemographic factorsdeveloping count\n",
    "\"\"\"\n",
    "classify_and_print_result(abstract)"
   ]
  },
  {
   "cell_type": "code",
   "execution_count": 11,
   "metadata": {},
   "outputs": [
    {
     "name": "stdout",
     "output_type": "stream",
     "text": [
      "BACKGROUND: Despite improved digital access to scientific publications in the last decades, the fundamental principles of scholarly communication remain unchanged and continue to be largely document-based.\n",
      "BACKGROUND: The document-oriented workflows in science publication have reached the limits of adequacy as highlighted by recent discussions on the increasing proliferation of scientific literature, the deficiency of peer-review and the reproducibility crisis.\n",
      "OUTCOME: In this article, we present first steps towards representing scholarly knowledge semantically with knowledge graphs.\n",
      "BACKGROUND: We expand the currently popular RDF graph-based knowledge representation formalism to capture annotations, such as provenance information and describe how to manage such knowledge in a graph data base.\n",
      "OUTCOME: We report on the results of a first experimental evaluation of the concept and its implementations with the participants of an international conference.\n"
     ]
    }
   ],
   "source": [
    "abstract = \"\"\"\n",
    "Despite improved digital access to scientific publications in the last decades, the fundamental principles of scholarly communication remain unchanged and continue to be largely document-based. \n",
    "The document-oriented workflows in science publication have reached the limits of adequacy as highlighted by recent discussions on the increasing proliferation of scientific literature, the deficiency of peer-review and the reproducibility crisis. \n",
    "In this article, we present first steps towards representing scholarly knowledge semantically with knowledge graphs.\n",
    "We expand the currently popular RDF graph-based knowledge representation formalism to capture annotations, such as provenance information and describe how to manage such knowledge in a graph data base. \n",
    "We report on the results of a first experimental evaluation of the concept and its implementations with the participants of an international conference.\n",
    "\"\"\"\n",
    "classify_and_print_result(abstract)"
   ]
  },
  {
   "cell_type": "code",
   "execution_count": null,
   "metadata": {},
   "outputs": [],
   "source": []
  }
 ],
 "metadata": {
  "kernelspec": {
   "display_name": "Python 3",
   "language": "python",
   "name": "python3"
  },
  "language_info": {
   "codemirror_mode": {
    "name": "ipython",
    "version": 3
   },
   "file_extension": ".py",
   "mimetype": "text/x-python",
   "name": "python",
   "nbconvert_exporter": "python",
   "pygments_lexer": "ipython3",
   "version": "3.6.7"
  }
 },
 "nbformat": 4,
 "nbformat_minor": 2
}
