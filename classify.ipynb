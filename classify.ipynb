{
 "cells": [
  {
   "cell_type": "code",
   "execution_count": 1,
   "metadata": {},
   "outputs": [],
   "source": [
    "from model.data_utils import Dataset\n",
    "from model.models import HANNModel\n",
    "from model.config import Config\n",
    "import argparse\n",
    "import os\n",
    "import sys\n",
    "import nltk.data\n"
   ]
  },
  {
   "cell_type": "code",
   "execution_count": 2,
   "metadata": {},
   "outputs": [],
   "source": [
    "# Load sentence splitter\n",
    "tokenizer = nltk.data.load('tokenizers/punkt/english.pickle')"
   ]
  },
  {
   "cell_type": "markdown",
   "metadata": {},
   "source": [
    "# Provide the dataset name and the path to the trained parameters"
   ]
  },
  {
   "cell_type": "code",
   "execution_count": 3,
   "metadata": {},
   "outputs": [],
   "source": [
    "models = [\n",
    "    {\"dataset\": \"nicta\",      \"weights\": \"results/nicta_1_epoch/model.weights\"},\n",
    "    {\"dataset\": \"pubmed-20k\", \"weights\": \"results/pubmed-20k_1_epoch/model.weights\"}    \n",
    "]\n",
    "\n"
   ]
  },
  {
   "cell_type": "markdown",
   "metadata": {},
   "source": [
    "# Load the config and the model with the given model parameters"
   ]
  },
  {
   "cell_type": "code",
   "execution_count": 4,
   "metadata": {},
   "outputs": [
    {
     "name": "stdout",
     "output_type": "stream",
     "text": [
      "INFO:tensorflow:Scale of 0 disables regularizer.\n"
     ]
    },
    {
     "name": "stderr",
     "output_type": "stream",
     "text": [
      "Scale of 0 disables regularizer.\n",
      "/home/bracka/.local/lib/python3.6/site-packages/tensorflow/python/ops/gradients_impl.py:112: UserWarning: Converting sparse IndexedSlices to a dense Tensor of unknown shape. This may consume a large amount of memory.\n",
      "  \"Converting sparse IndexedSlices to a dense Tensor of unknown shape. \"\n",
      "Initializing tf session\n",
      "Reloading the latest trained model...\n"
     ]
    },
    {
     "name": "stdout",
     "output_type": "stream",
     "text": [
      "INFO:tensorflow:Restoring parameters from results/nicta_1_epoch/model.weights\n"
     ]
    },
    {
     "name": "stderr",
     "output_type": "stream",
     "text": [
      "Restoring parameters from results/nicta_1_epoch/model.weights\n"
     ]
    },
    {
     "name": "stdout",
     "output_type": "stream",
     "text": [
      "INFO:tensorflow:Scale of 0 disables regularizer.\n"
     ]
    },
    {
     "name": "stderr",
     "output_type": "stream",
     "text": [
      "Scale of 0 disables regularizer.\n",
      "Initializing tf session\n",
      "Reloading the latest trained model...\n"
     ]
    },
    {
     "name": "stdout",
     "output_type": "stream",
     "text": [
      "INFO:tensorflow:Restoring parameters from results/pubmed-20k_1_epoch/model.weights\n"
     ]
    },
    {
     "name": "stderr",
     "output_type": "stream",
     "text": [
      "Restoring parameters from results/pubmed-20k_1_epoch/model.weights\n"
     ]
    }
   ],
   "source": [
    "for d in models:\n",
    "    parser = argparse.ArgumentParser()\n",
    "    config = Config(parser, log_config=False, dataset = d[\"dataset\"], args=dict())\n",
    "    model = HANNModel(config)\n",
    "    model.build()\n",
    "    model.restore_session(d[\"weights\"])\n",
    "    d[\"config\"] = config\n",
    "    d[\"model\"] = model\n",
    "    "
   ]
  },
  {
   "cell_type": "code",
   "execution_count": 5,
   "metadata": {},
   "outputs": [],
   "source": [
    "def split_to_sentences(text):\n",
    "    \"\"\" Splits the text into sentences \"\"\"    \n",
    "    return list(map(lambda l: l.strip(), tokenizer.tokenize(text)))\n",
    "\n"
   ]
  },
  {
   "cell_type": "code",
   "execution_count": 6,
   "metadata": {},
   "outputs": [],
   "source": [
    "def split_sentences_to_words(sentences, config):\n",
    "    \"\"\"Splits each sentence into words and maps each word to an index for word embeddings \"\"\"\n",
    "    \n",
    "    sentences_words = []\n",
    "    # split abstract to sentences\n",
    "    for line in sentences:\n",
    "        # split line into words and map  words to ids\n",
    "        sentence = [config.processing_word(word) for word in line.split()]\n",
    "        sentences_words += [sentence]\n",
    "    return sentences_words"
   ]
  },
  {
   "cell_type": "code",
   "execution_count": 7,
   "metadata": {},
   "outputs": [],
   "source": [
    "def classify(sentences):\n",
    "    \"\"\"Classifies the sentences and returns a predicted label for each sentence for each model\"\"\"\n",
    "    \n",
    "    result = []\n",
    "    \n",
    "    for m in models:\n",
    "        sentences_words = split_sentences_to_words(sentences, m[\"config\"])\n",
    "        labels_pred, _ = m[\"model\"].predict_batch([sentences_words])\n",
    "        # map: label id to label string\n",
    "        tag_id_to_label = dict((v,k) for k,v in m[\"config\"].vocab_tags.items())            \n",
    "        # convert predicted labels to string\n",
    "        labels_pred_str = []\n",
    "        for sublist in labels_pred:\n",
    "            for item in sublist:\n",
    "                labels_pred_str.append(tag_id_to_label[item].upper())\n",
    "\n",
    "        result += [labels_pred_str]\n",
    "        \n",
    "    \n",
    "    return result"
   ]
  },
  {
   "cell_type": "code",
   "execution_count": 8,
   "metadata": {},
   "outputs": [],
   "source": [
    "def classify_and_print_result(text):\n",
    "    \"\"\"Classifies each sentence in the text and prints the predicted label for each sentence for each model\"\"\"\n",
    "    \n",
    "    sentences = split_to_sentences(text)\n",
    "    predicted_labels = classify(sentences)\n",
    "\n",
    "    model_names = list(map(lambda m: m[\"dataset\"], models))\n",
    "    print(\"/\".join(model_names))\n",
    "    \n",
    "\n",
    "    for index, sentence in enumerate(sentences):\n",
    "        labels_str = list(map(lambda m: m[index], predicted_labels))\n",
    "        \n",
    "        print(\"/\".join(labels_str) + \": \" + sentence)\n",
    "\n",
    "        "
   ]
  },
  {
   "cell_type": "markdown",
   "metadata": {},
   "source": [
    "# Possible sentence labels of the model"
   ]
  },
  {
   "cell_type": "code",
   "execution_count": 9,
   "metadata": {},
   "outputs": [
    {
     "name": "stdout",
     "output_type": "stream",
     "text": [
      "nicta:\n",
      "OUTCOME\n",
      "BACKGROUND\n",
      "INTERVENTION\n",
      "STUDY\n",
      "OTHER\n",
      "POPULATION\n",
      "\n",
      "pubmed-20k:\n",
      "OBJECTIVE\n",
      "BACKGROUND\n",
      "CONCLUSIONS\n",
      "METHODS\n",
      "RESULTS\n",
      "\n"
     ]
    }
   ],
   "source": [
    "for m in models:\n",
    "    print(m[\"dataset\"] + \":\")\n",
    "    for l in m[\"config\"].vocab_tags.keys():\n",
    "        print(l.upper())\n",
    "    print()\n",
    "    \n"
   ]
  },
  {
   "cell_type": "markdown",
   "metadata": {},
   "source": [
    "# Now play around: classify sentences in abstracts"
   ]
  },
  {
   "cell_type": "code",
   "execution_count": 10,
   "metadata": {},
   "outputs": [
    {
     "name": "stdout",
     "output_type": "stream",
     "text": [
      "nicta/pubmed-20k\n",
      "BACKGROUND/BACKGROUND: Although adolescents in Reunion have a pregnancy rate of 77/1000 , twice that of France , there are no published studies on the themes of adolescent pregnancy and parenthood .\n",
      "OTHER/METHODS: 105 women under 18 including 20 aged 14 who gave birth in 1 maternity center were analyzed for sociofamilial characteristics and perinatal complications .\n",
      "OUTCOME/RESULTS: The educational level of the adolescent mothers was low and 47 % had stopped school before the pregnancy .\n",
      "OUTCOME/RESULTS: 1/3 expected to find employment or return to work after delivery .\n",
      "OUTCOME/RESULTS: 19 % were already in consensual unions at the time of pregnancy and 34 % had entered such unions after delivery .\n",
      "OUTCOME/RESULTS: It was the 2nd pregnancy for 11.5 % .\n",
      "OUTCOME/RESULTS: Only 8.5 % used contraception .\n",
      "OUTCOME/RESULTS: The age difference with the partner was over 5 years for more than half .\n",
      "OUTCOME/RESULTS: 68 % had known the father for more than 1 year .\n",
      "OUTCOME/RESULTS: At the time of pregnancy , 35 % lived in families with 2 parents and 36 % in households headed by their mothers .\n",
      "OUTCOME/RESULTS: Heads of 50 % of all their households and 80 % of those headed by the mothers were unemployed .\n",
      "OUTCOME/RESULTS: 44 % had more than 6 siblings .\n",
      "OUTCOME/RESULTS: 20 % had 1 or more sisters who were adolescent mothers .\n",
      "OUTCOME/RESULTS: Comparison with a group of 62 adolescents seeking abortions at the same center indicated several factors that appeared to encourage continuation of the pregnancy ; including being below age level in school , absence of plans for education or employment , lim\n",
      "Risk factors at the level of the family included absence of the father , maternal tolerance , poverty , and sisters who were single mothers .\n",
      "OUTCOME/RESULTS: 27 % states retrospectively that they would have preferred to terminate the pregnancy , but all stated they were satisfied after the delivery .\n",
      "OUTCOME/RESULTS: 41 % had problems in pregnancy or delivery .\n",
      "OUTCOME/RESULTS: 10.5 % had toxemia and 23 % had low birth weight babies .\n",
      "OUTCOME/RESULTS: 5.7 % had caesareans , mainly for eclampsia and acute fetal distress .\n",
      "OUTCOME/RESULTS: There was 1 stillbirth and 2 cases of cogenital malformations .\n",
      "OUTCOME/CONCLUSIONS: 14 newborns were transferred were transferred to the neonatology unit for various problems , including 6 weighing under 2000 g.\n",
      "Compared to the general population , the rate of fetal growth retardation was 3 times higher and that of neonatal pathology requiring transfer to the neonatology unit was 2 times higher among adolescent mothers .\n",
      "OUTCOME/CONCLUSIONS: Prenatal care was inadequate in many cases .\n",
      "OUTCOME/CONCLUSIONS: 35 % of 14-year-old mothers had 3 or fewer prenatal visits.adolescent pregnancy -- complicationsadolescentsadolescents femaleafricaafrica south of the saharaage factorscontraceptioncontraceptive usagedelivery of health caredemographic factorsdeveloping count\n"
     ]
    }
   ],
   "source": [
    "abstract = \"\"\"\n",
    "Although adolescents in Reunion have a pregnancy rate of 77/1000 , twice that of France , there are no published studies on the themes of adolescent pregnancy and parenthood .\n",
    "105 women under 18 including 20 aged 14 who gave birth in 1 maternity center were analyzed for sociofamilial characteristics and perinatal complications .\n",
    "The educational level of the adolescent mothers was low and 47 % had stopped school before the pregnancy .\n",
    "1/3 expected to find employment or return to work after delivery .\n",
    "19 % were already in consensual unions at the time of pregnancy and 34 % had entered such unions after delivery .\n",
    "It was the 2nd pregnancy for 11.5 % .\n",
    "Only 8.5 % used contraception .\n",
    "The age difference with the partner was over 5 years for more than half .\n",
    "68 % had known the father for more than 1 year .\n",
    "At the time of pregnancy , 35 % lived in families with 2 parents and 36 % in households headed by their mothers .\n",
    "Heads of 50 % of all their households and 80 % of those headed by the mothers were unemployed .\n",
    "44 % had more than 6 siblings .\n",
    "20 % had 1 or more sisters who were adolescent mothers .\n",
    "Comparison with a group of 62 adolescents seeking abortions at the same center indicated several factors that appeared to encourage continuation of the pregnancy ; including being below age level in school , absence of plans for education or employment , lim\n",
    "Risk factors at the level of the family included absence of the father , maternal tolerance , poverty , and sisters who were single mothers .\n",
    "27 % states retrospectively that they would have preferred to terminate the pregnancy , but all stated they were satisfied after the delivery .\n",
    "41 % had problems in pregnancy or delivery .\n",
    "10.5 % had toxemia and 23 % had low birth weight babies .\n",
    "5.7 % had caesareans , mainly for eclampsia and acute fetal distress .\n",
    "There was 1 stillbirth and 2 cases of cogenital malformations .\n",
    "14 newborns were transferred were transferred to the neonatology unit for various problems , including 6 weighing under 2000 g.\n",
    "Compared to the general population , the rate of fetal growth retardation was 3 times higher and that of neonatal pathology requiring transfer to the neonatology unit was 2 times higher among adolescent mothers .\n",
    "Prenatal care was inadequate in many cases .\n",
    "35 % of 14-year-old mothers had 3 or fewer prenatal visits.adolescent pregnancy -- complicationsadolescentsadolescents femaleafricaafrica south of the saharaage factorscontraceptioncontraceptive usagedelivery of health caredemographic factorsdeveloping count\n",
    "\"\"\"\n",
    "classify_and_print_result(abstract)"
   ]
  },
  {
   "cell_type": "code",
   "execution_count": 11,
   "metadata": {},
   "outputs": [
    {
     "name": "stdout",
     "output_type": "stream",
     "text": [
      "nicta/pubmed-20k\n",
      "BACKGROUND/BACKGROUND: Despite improved digital access to scientific publications in the last decades, the fundamental principles of scholarly communication remain unchanged and continue to be largely document-based.\n",
      "BACKGROUND/BACKGROUND: The document-oriented workflows in science publication have reached the limits of adequacy as highlighted by recent discussions on the increasing proliferation of scientific literature, the deficiency of peer-review and the reproducibility crisis.\n",
      "OUTCOME/BACKGROUND: In this article, we present first steps towards representing scholarly knowledge semantically with knowledge graphs.\n",
      "BACKGROUND/BACKGROUND: We expand the currently popular RDF graph-based knowledge representation formalism to capture annotations, such as provenance information and describe how to manage such knowledge in a graph data base.\n",
      "OUTCOME/BACKGROUND: We report on the results of a first experimental evaluation of the concept and its implementations with the participants of an international conference.\n"
     ]
    }
   ],
   "source": [
    "abstract = \"\"\"\n",
    "Despite improved digital access to scientific publications in the last decades, the fundamental principles of scholarly communication remain unchanged and continue to be largely document-based. \n",
    "The document-oriented workflows in science publication have reached the limits of adequacy as highlighted by recent discussions on the increasing proliferation of scientific literature, the deficiency of peer-review and the reproducibility crisis. \n",
    "In this article, we present first steps towards representing scholarly knowledge semantically with knowledge graphs.\n",
    "We expand the currently popular RDF graph-based knowledge representation formalism to capture annotations, such as provenance information and describe how to manage such knowledge in a graph data base. \n",
    "We report on the results of a first experimental evaluation of the concept and its implementations with the participants of an international conference.\n",
    "\"\"\"\n",
    "classify_and_print_result(abstract)"
   ]
  },
  {
   "cell_type": "code",
   "execution_count": 12,
   "metadata": {},
   "outputs": [
    {
     "name": "stdout",
     "output_type": "stream",
     "text": [
      "nicta/pubmed-20k\n",
      "BACKGROUND/BACKGROUND: Interpreting observational data is a fundamental task in the sciences, specifically in earth and environmental science where observational data are increasingly acquired, curated, and published systematically by environmental research infrastructures.\n",
      "OTHER/BACKGROUND: Typically subject to substantial processing, observational data are used by research communities, their research groups and individual scientists, who interpret such primary data for their meaning in the context of research investigations.\n",
      "OUTCOME/RESULTS: The result of interpretation is information—meaningful secondary or derived data—about the observed environment.\n",
      "BACKGROUND/RESULTS: Research infrastructures and research communities are thus essential to evolving uninterpreted observational data to information.\n",
      "OUTCOME/RESULTS: In digital form, the classical bearer of information are the commonly known “(elaborated) data products,” for instance maps.\n",
      "BACKGROUND/RESULTS: In such form, meaning is generally implicit e.g., in map colour coding, and thus largely inaccessible to machines.\n",
      "OTHER/CONCLUSIONS: The systematic acquisition, curation, possible publishing and further processing of information gained in observational data interpretation—as machine readable data and their machine readable meaning—is not common practice among environmental research infrastructures.\n",
      "OUTCOME/CONCLUSIONS: For a use case in aerosol science, we elucidate these problems and present a Jupyter based prototype infrastructure that exploits a machine learning approach to interpretation and could support a research community in interpreting observational data and, more importantly, in curating and further using resulting information about a studied natural phenomenon.\n"
     ]
    }
   ],
   "source": [
    "abstract = \"\"\"\n",
    "Interpreting observational data is a fundamental task in the sciences, specifically in earth and environmental science where observational data are increasingly acquired, curated, and published systematically by environmental research infrastructures. Typically subject to substantial processing, observational data are used by research communities, their research groups and individual scientists, who interpret such primary data for their meaning in the context of research investigations. The result of interpretation is information—meaningful secondary or derived data—about the observed environment. Research infrastructures and research communities are thus essential to evolving uninterpreted observational data to information. In digital form, the classical bearer of information are the commonly known “(elaborated) data products,” for instance maps. In such form, meaning is generally implicit e.g., in map colour coding, and thus largely inaccessible to machines. The systematic acquisition, curation, possible publishing and further processing of information gained in observational data interpretation—as machine readable data and their machine readable meaning—is not common practice among environmental research infrastructures. For a use case in aerosol science, we elucidate these problems and present a Jupyter based prototype infrastructure that exploits a machine learning approach to interpretation and could support a research community in interpreting observational data and, more importantly, in curating and further using resulting information about a studied natural phenomenon.\n",
    "\"\"\"\n",
    "classify_and_print_result(abstract)"
   ]
  },
  {
   "cell_type": "code",
   "execution_count": null,
   "metadata": {},
   "outputs": [],
   "source": []
  },
  {
   "cell_type": "code",
   "execution_count": null,
   "metadata": {},
   "outputs": [],
   "source": []
  }
 ],
 "metadata": {
  "kernelspec": {
   "display_name": "Python 3",
   "language": "python",
   "name": "python3"
  },
  "language_info": {
   "codemirror_mode": {
    "name": "ipython",
    "version": 3
   },
   "file_extension": ".py",
   "mimetype": "text/x-python",
   "name": "python",
   "nbconvert_exporter": "python",
   "pygments_lexer": "ipython3",
   "version": "3.6.7"
  }
 },
 "nbformat": 4,
 "nbformat_minor": 2
}
